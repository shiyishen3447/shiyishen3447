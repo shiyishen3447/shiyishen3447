{
 "cells": [
  {
   "cell_type": "code",
   "execution_count": null,
   "id": "editorial-point",
   "metadata": {},
   "outputs": [],
   "source": [
    "---\n",
    "title: Simple Naive Base Classifier with Movie Reviews\n",
    "subtitle: This is the most ____ movie I have ever watched!\n",
    "summary: This is the most ____ movie I have ever watched!\n",
    "authors:\n",
    "- admin\n",
    "tags: []\n",
    "categories: []\n",
    "date: \"2019-02-05T00:00:00Z\"\n",
    "lastMod: \"2019-09-05T00:00:00Z\"\n",
    "featured: false\n",
    "draft: false\n",
    "\n",
    "# Featured image\n",
    "# To use, add an image named `featured.jpg/png` to your page's folder. \n",
    "image:\n",
    "  caption: \"\"\n",
    "  focal_point: \"\"\n",
    "\n",
    "# Projects (optional).\n",
    "#   Associate this post with one or more of your projects.\n",
    "#   Simply enter your project's folder or file name without extension.\n",
    "#   E.g. `projects = [\"internal-project\"]` references \n",
    "#   `content/project/deep-learning/index.md`.\n",
    "#   Otherwise, set `projects = []`.\n",
    "projects: []\n",
    "---"
   ]
  },
  {
   "cell_type": "code",
   "execution_count": null,
   "id": "exact-cisco",
   "metadata": {},
   "outputs": [],
   "source": [
    "from IPython.core.display import Image\n",
    "Image(\"/Users/shiyishen/GitHub/shiyishen3447/content/post/simple-naive-base/1_0a2wA8H1nbyEXILf0WBcHA.png\")"
   ]
  },
  {
   "cell_type": "markdown",
   "id": "cellular-satellite",
   "metadata": {},
   "source": [
    "## Import All The Necessary Libs \n",
    "Here we will import `numpy` and build matrices and arrays to support our data structure \n",
    "\n",
    "In the past, I have primarily used dictionary for data storage. Alternatively, `numpy` can do powerful magic tricks to \n",
    "the arrays and matrices. Therefore, in this project I use `numpy` to store all the `feature vectors`."
   ]
  },
  {
   "cell_type": "code",
   "execution_count": null,
   "id": "blank-switzerland",
   "metadata": {},
   "outputs": [],
   "source": [
    "import os \n",
    "import numpy as np\n",
    "from collections import defaultdict\n",
    "import nltk \n",
    "#nltk.download(punkt)"
   ]
  }
 ],
 "metadata": {
  "kernelspec": {
   "display_name": "Python 3",
   "language": "python",
   "name": "python3"
  },
  "language_info": {
   "codemirror_mode": {
    "name": "ipython",
    "version": 3
   },
   "file_extension": ".py",
   "mimetype": "text/x-python",
   "name": "python",
   "nbconvert_exporter": "python",
   "pygments_lexer": "ipython3",
   "version": "3.8.3"
  }
 },
 "nbformat": 4,
 "nbformat_minor": 5
}
